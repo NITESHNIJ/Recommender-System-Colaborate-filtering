{
  "nbformat": 4,
  "nbformat_minor": 0,
  "metadata": {
    "colab": {
      "name": "Recommender System",
      "version": "0.3.2",
      "provenance": [],
      "collapsed_sections": []
    },
    "kernelspec": {
      "name": "python3",
      "display_name": "Python 3"
    }
  },
  "cells": [
    {
      "cell_type": "markdown",
      "metadata": {
        "id": "QY84IUxNuku3",
        "colab_type": "text"
      },
      "source": [
        "][**Creating Data consisting of only ratings given by different users to different movies**\n",
        "\n"
      ]
    },
    {
      "cell_type": "code",
      "metadata": {
        "id": "ZIHvAPt1VUJk",
        "colab_type": "code",
        "outputId": "a411a423-0dfc-4c4f-9496-a752e2f50c47",
        "colab": {
          "base_uri": "https://localhost:8080/",
          "height": 158
        }
      },
      "source": [
        "#making a rate card, here each row is a movie and each column is a user.\n",
        "#I have assumed first two movies of common type ,the next two of common type and so on,hece taking 4 types of movies.\n",
        "#I have taken 4 users with similar taste, therefor 4 types of tastes and 16 users\n",
        "\n",
        "import numpy as np\n",
        "y_des = np.array([[5,4,5,5,1,1,1,1,1,2,1,2,3,2,2,3],[4,5,4,4,1,1,2,1,1,1,1,2,2,1,2,3],[2,3,2,1,5,5,4,5,3,3,2,3,1,1,1,2],[1,1,2,1,4,5,5,4,2,3,1,3,2,1,1,1],[1,1,2,1,2,3,3,2,5,5,5,5,1,1,2,2],[1,1,1,1,2,2,2,3,5,4,5,4,2,1,1,2],[2,3,3,2,1,1,1,2,1,1,1,1,5,5,5,5],[3,2,2,3,2,1,1,2,1,1,1,2,5,5,4,5]])\n",
        "print(y_des)"
      ],
      "execution_count": 0,
      "outputs": [
        {
          "output_type": "stream",
          "text": [
            "[[5 4 5 5 1 1 1 1 1 2 1 2 3 2 2 3]\n",
            " [4 5 4 4 1 1 2 1 1 1 1 2 2 1 2 3]\n",
            " [2 3 2 1 5 5 4 5 3 3 2 3 1 1 1 2]\n",
            " [1 1 2 1 4 5 5 4 2 3 1 3 2 1 1 1]\n",
            " [1 1 2 1 2 3 3 2 5 5 5 5 1 1 2 2]\n",
            " [1 1 1 1 2 2 2 3 5 4 5 4 2 1 1 2]\n",
            " [2 3 3 2 1 1 1 2 1 1 1 1 5 5 5 5]\n",
            " [3 2 2 3 2 1 1 2 1 1 1 2 5 5 4 5]]\n"
          ],
          "name": "stdout"
        }
      ]
    },
    {
      "cell_type": "markdown",
      "metadata": {
        "id": "parXMkYSu037",
        "colab_type": "text"
      },
      "source": [
        "**Finding feature vectors/Embeddings for all the movies and all the users**\n"
      ]
    },
    {
      "cell_type": "code",
      "metadata": {
        "id": "HQ8MoOHvXU8b",
        "colab_type": "code",
        "colab": {}
      },
      "source": [
        "#here I am cretinng the embeddings for every user and every movie, using the information present with us.\n",
        "#I have hardcoded the dimension of each embedding  to be 3, you can change according to your need.\n",
        "def model(Y_des,epochs,learning_rate):\n",
        "  M = np.random.random((8,3))*0.1                 #initially taking embeddings for movies as random values\n",
        "  U = np.random.random((3,16))*0.1                #initially taking embeddings for users as random values\n",
        "\n",
        "  error_list = []                                 #list to store error at each epoch\n",
        "  for i in range(epochs):\n",
        "    Y_pred = np.dot(M,U)                          # this will give us the predicted rate card\n",
        "    error = (1/2)*np.sum((Y_des - Y_pred)**2)     #calculating the loss on the predicted value\n",
        "    error_list.append(error)\n",
        "    \n",
        "    temp = Y_des - Y_pred\n",
        "    \n",
        "    dU = np.dot(M.T,temp)                         #getting the slope for back-propagation\n",
        "    dM = np.dot(temp,U.T)\n",
        "    \n",
        "    U = U + (1/8)*learning_rate*dU                #updating the values of the embeddings to make it come to the minima of the cost function\n",
        "    M = M + (1/16)*learning_rate*dM\n",
        "  \n",
        "  return (M,U,error_list)\n",
        "    \n"
      ],
      "execution_count": 0,
      "outputs": []
    },
    {
      "cell_type": "code",
      "metadata": {
        "id": "JdSGvWp_X-je",
        "colab_type": "code",
        "outputId": "6e737f2f-7405-4480-d7f3-98f2b42cc936",
        "colab": {
          "base_uri": "https://localhost:8080/",
          "height": 721
        }
      },
      "source": [
        "m,u,error = model(y_des,2000,0.01)\n",
        "\n",
        "x = [i for i in range(2000)]\n",
        "import matplotlib.pyplot as plt \n",
        "  \n",
        "plt.plot(x, error) \n",
        "  \n",
        "plt.xlabel('epochs') \n",
        "plt.ylabel('error') \n",
        "plt.title('My first graph!') \n",
        "plt.show() \n",
        "\n",
        "print(\"Movies:\")\n",
        "print(m)\n",
        "print(\"\\n\\n\")\n",
        "print(\"Users\")\n",
        "print(u)\n",
        "print(\"Final loss:\")\n",
        "print(error[-1])"
      ],
      "execution_count": 0,
      "outputs": [
        {
          "output_type": "display_data",
          "data": {
            "image/png": "[encoded data removed]",
            "text/plain": [
              "<Figure size 432x288 with 1 Axes>"
            ]
          },
          "metadata": {
            "tags": []
          }
        },
        {
          "output_type": "stream",
          "text": [
            "Movies:\n",
            "[[ 0.45052931  2.16119907  0.16879002]\n",
            " [ 0.52838396  1.89734512  0.08308613]\n",
            " [ 1.65666483  0.22794851  1.09635093]\n",
            " [ 1.413039   -0.05415135  1.1885322 ]\n",
            " [ 1.91884366  0.33897374  0.62228729]\n",
            " [ 1.63576369  0.23925791  0.71047689]\n",
            " [-0.41391746  1.17139066  1.8673695 ]\n",
            " [-0.26348186  1.15289998  1.80804689]]\n",
            "\n",
            "\n",
            "\n",
            "Users\n",
            "[[ 0.40799658  0.51929917  0.64918702  0.29026665  1.28830756  1.66060585\n",
            "   1.59124335  1.29515207  1.91667783  1.90344538  1.71067595  1.83901947\n",
            "  -0.27197916 -0.58301782 -0.25063721 -0.0229308 ]\n",
            " [ 2.05276135  1.9797192   1.9708642   2.09774265 -0.03689237 -0.14458577\n",
            "   0.11930827 -0.02446969  0.16492385  0.33981358  0.29410798  0.58572765\n",
            "   1.20240297  0.83534927  1.03075125  1.46403259]\n",
            " [ 0.21000774  0.30350027  0.32371784  0.13190178  1.24890981  1.13526316\n",
            "   0.92990071  1.48664506  0.60246026  0.58535737  0.40322021  0.6707481\n",
            "   1.88084426  2.00444421  1.64243758  1.68844947]]\n",
            "Final loss:\n",
            "30.348276885223434\n"
          ],
          "name": "stdout"
        }
      ]
    },
    {
      "cell_type": "code",
      "metadata": {
        "id": "TCfYajysbITN",
        "colab_type": "code",
        "outputId": "87b30b4e-13e3-4b43-df60-5ca4d6620659",
        "colab": {
          "base_uri": "https://localhost:8080/",
          "height": 674
        }
      },
      "source": [
        "print(\"Predicted value:\")\n",
        "print(np.dot(m,u))\n",
        "print(\"\\n\\n\")\n",
        "print(\"Actual Values:\")\n",
        "print(y_des)"
      ],
      "execution_count": 0,
      "outputs": [
        {
          "output_type": "stream",
          "text": [
            "Predicted value:\n",
            "[[4.65568755 4.56375461 4.60654801 4.6866768  0.71149207 0.62729405\n",
            "  1.13170865 0.78155093 1.32164207 1.69076519 1.47439509 2.2076218\n",
            "  2.79356533 1.88101963 2.39196631 3.4387283 ]\n",
            " [4.12782429 4.05581656 4.10932604 4.14447322 0.71449058 0.69743301\n",
            "  1.14441828 0.76142971 1.37571536 1.69912872 1.49542008 2.13876575\n",
            "  2.29393604 1.4434301  1.95972194 2.90594555]\n",
            " [1.37407965 1.64432151 1.87964921 1.1036625  3.49512769 3.96275601\n",
            "  3.68285054 3.76993974 3.87339475 3.8725881  3.343129   3.91552992\n",
            "  1.88557299 1.42212577 1.62042431 2.14686853]\n",
            " [0.71495625 0.98730537 1.19535071 0.45333203 3.30679613 3.70362717\n",
            "  3.34724515 3.59835098 3.4154531  3.36695728 2.8805657  3.36409401\n",
            "  1.78601506 1.51328428 1.54211322 1.89509511]\n",
            " [1.60939899 1.85639111 2.11520511 1.3501368  3.23673595 3.84389206\n",
            "  3.67245498 3.40202008 4.10861331 4.13186243 3.63313339 4.14473516\n",
            "  1.05612302 0.41178159 0.89053202 1.50296863]\n",
            " [1.30773102 1.53874413 1.76345545 1.07042233 2.9858615  3.48834371\n",
            "  3.29211651 3.16893512 3.60272542 3.61077281 3.1551079  3.62489227\n",
            "  1.17908716 0.67029584 1.00354608 1.51237634]\n",
            " [2.6278706  2.67082471 2.64444288 2.58343906 1.75570771 1.26323562\n",
            "  1.21758141 2.211366   0.52485973 0.70326366 0.38939781 1.17744816\n",
            "  5.03329172 4.96287957 4.37819334 4.8774046 ]\n",
            " [2.63883266 2.69433502 2.68645733 2.58049206 1.87610862 1.44837658\n",
            "  1.39959084 2.31846379 0.77440726 0.94860131 0.61738605 1.40348114\n",
            "  4.85856654 4.74081791 4.22399561 4.74672082]]\n",
            "\n",
            "\n",
            "\n",
            "Actual Values:\n",
            "[[5 4 5 5 1 1 1 1 1 2 1 2 3 2 2 3]\n",
            " [4 5 4 4 1 1 2 1 1 1 1 2 2 1 2 3]\n",
            " [2 3 2 1 5 5 4 5 3 3 2 3 1 1 1 2]\n",
            " [1 1 2 1 4 5 5 4 2 3 1 3 2 1 1 1]\n",
            " [1 1 2 1 2 3 3 2 5 5 5 5 1 1 2 2]\n",
            " [1 1 1 1 2 2 2 3 5 4 5 4 2 1 1 2]\n",
            " [2 3 3 2 1 1 1 2 1 1 1 1 5 5 5 5]\n",
            " [3 2 2 3 2 1 1 2 1 1 1 2 5 5 4 5]]\n"
          ],
          "name": "stdout"
        }
      ]
    },
    {
      "cell_type": "markdown",
      "metadata": {
        "id": "37lEyZRYvYEC",
        "colab_type": "text"
      },
      "source": [
        "**creating embedding for new user by knowing the movies which he likes,we use the previously calculated embeddings of the movies liked by this user**"
      ]
    },
    {
      "cell_type": "code",
      "metadata": {
        "id": "FgpmAh33dOhk",
        "colab_type": "code",
        "colab": {}
      },
      "source": [
        "#taking the case that we have a virtual user bob ,and he likes a love movie ,movie no. 1,\n",
        "#this will help us test as we will learn the feature vector for bob with the help of feature vector for movie1(chosen as bob's choice)\n",
        "#now with the feature vector we learnt for bob, we will find its cosine with all movies which bob has yet not watched and recomend him the one for which we get the maximum cosine value\n",
        "\n",
        "\n",
        "def get_bob(liked_movie_index,epochs,learning_rate,rating):\n",
        "  \n",
        "  bob = np.random.random((3,1))*0.1                      #tsking random initial embedding for bob\n",
        "  movie = m[liked_movie_index,:].reshape((1,3))          #getting the embedding of the movie bob liked\n",
        "  errors = []\n",
        "  \n",
        "  for i in range(epochs):\n",
        "    y = np.dot(movie,bob)\n",
        "    y = np.asscalar(y)\n",
        "    error = (1/2)*((rating-y)**2)\n",
        "    errors.append(error)\n",
        "    temp = rating-y\n",
        "    dW = (movie.T)*temp\n",
        "    bob = bob + (1/3)*learning_rate*dW\n",
        "    \n",
        "  return (bob,errors)"
      ],
      "execution_count": 0,
      "outputs": []
    },
    {
      "cell_type": "code",
      "metadata": {
        "id": "WRJqpOBqqO-h",
        "colab_type": "code",
        "outputId": "c7bdcd69-0976-4d68-e36d-88240b313019",
        "colab": {
          "base_uri": "https://localhost:8080/",
          "height": 347
        }
      },
      "source": [
        "b,errors = get_bob(6,2000,0.01,5)\n",
        "print(b)\n",
        "\n",
        "x = [i for i in range(2000)]\n",
        "\n",
        "plt.plot(x, errors) \n",
        "  \n",
        "plt.xlabel('epochs') \n",
        "plt.ylabel('error') \n",
        "plt.title('My first graph!') \n",
        "plt.show() "
      ],
      "execution_count": 0,
      "outputs": [
        {
          "output_type": "stream",
          "text": [
            "[[-0.3225582 ]\n",
            " [ 1.19198652]\n",
            " [ 1.85833905]]\n"
          ],
          "name": "stdout"
        },
        {
          "output_type": "display_data",
          "data": {
            "image/png": "[encoded data removed]",
            "text/plain": [
              "<Figure size 432x288 with 1 Axes>"
            ]
          },
          "metadata": {
            "tags": []
          }
        }
      ]
    },
    {
      "cell_type": "code",
      "metadata": {
        "id": "l5dxoQREtS1N",
        "colab_type": "code",
        "outputId": "7917ecb0-5d74-4dfd-809c-a97ce1acb9f2",
        "colab": {
          "base_uri": "https://localhost:8080/",
          "height": 158
        }
      },
      "source": [
        "print(np.dot(m,b))"
      ],
      "execution_count": 0,
      "outputs": [
        {
          "output_type": "stream",
          "text": [
            "[[2.74446732]\n",
            " [2.24557742]\n",
            " [1.77473247]\n",
            " [1.68836081]\n",
            " [0.94153416]\n",
            " [1.07787017]\n",
            " [5.        ]\n",
            " [4.81919361]]\n"
          ],
          "name": "stdout"
        }
      ]
    },
    {
      "cell_type": "markdown",
      "metadata": {
        "id": "c805y1DjvuyB",
        "colab_type": "text"
      },
      "source": [
        "**Creating embeddings for a new movie ,by knowing about the users who liked it (using the previousluy calculted word embeddings of the users who liked this movie)**"
      ]
    },
    {
      "cell_type": "code",
      "metadata": {
        "id": "ILliH6VIvt_A",
        "colab_type": "code",
        "colab": {}
      },
      "source": [
        "# here we assume that a new ovie is to be added to our dataset and we need to obtain its embeddings so we do it in a way that we first find out which user l\n",
        "# liked the movie and what rating he gave the movie and with the help of embedding of that user i found the embedding of the newlya dded movie.\n",
        "\n",
        "def get_movie(liking_user_index,epochs,learning_rate,rating):\n",
        "  \n",
        "  movie = np.random.random((1,3))*0.1\n",
        "  bob = u[:,liking_user_index].reshape((3,1))\n",
        "  errors = []\n",
        "  \n",
        "  for i in range(epochs):\n",
        "    y = np.dot(movie,bob)\n",
        "    y = np.asscalar(y)\n",
        "    error = (1/2)*((rating-y)**2)\n",
        "    errors.append(error)\n",
        "    temp = rating-y\n",
        "    dM = (bob.T)*temp\n",
        "    movie = movie + (1/3)*learning_rate*dM\n",
        "    \n",
        "  return (movie,errors)"
      ],
      "execution_count": 0,
      "outputs": []
    },
    {
      "cell_type": "code",
      "metadata": {
        "id": "xVRFyiXi4xXy",
        "colab_type": "code",
        "outputId": "b4e9f284-0b9f-41ca-e55b-c5519fc192fe",
        "colab": {
          "base_uri": "https://localhost:8080/",
          "height": 312
        }
      },
      "source": [
        "movie,errors = get_movie(9,2000,0.01,5)\n",
        "print(movie)\n",
        "\n",
        "x = [i for i in range(2000)]\n",
        "\n",
        "plt.plot(x, errors) \n",
        "  \n",
        "plt.xlabel('epochs') \n",
        "plt.ylabel('error') \n",
        "plt.title('My first graph!') \n",
        "plt.show() "
      ],
      "execution_count": 0,
      "outputs": [
        {
          "output_type": "stream",
          "text": [
            "[[2.29587226 0.48755948 0.79311075]]\n"
          ],
          "name": "stdout"
        },
        {
          "output_type": "display_data",
          "data": {
            "image/png": "[encoded data removed]",
            "text/plain": [
              "<Figure size 432x288 with 1 Axes>"
            ]
          },
          "metadata": {
            "tags": []
          }
        }
      ]
    },
    {
      "cell_type": "code",
      "metadata": {
        "id": "69I2tXPF5V2O",
        "colab_type": "code",
        "outputId": "4fcf95a6-4c81-4cdf-edd2-edcb0f70dbd8",
        "colab": {
          "base_uri": "https://localhost:8080/",
          "height": 70
        }
      },
      "source": [
        "print(np.dot(movie,u))"
      ],
      "execution_count": 0,
      "outputs": [
        {
          "output_type": "stream",
          "text": [
            "[[2.10411069 2.39818476 2.70810811 1.7938022  3.93032616 4.64243415\n",
            "  4.4489756  4.14064745 4.95867535 5.         4.39068688 5.03970838\n",
            "  1.45353134 0.65849426 1.22975641 2.0002842 ]]\n"
          ],
          "name": "stdout"
        }
      ]
    },
    {
      "cell_type": "code",
      "metadata": {
        "id": "10sSItSW5ozd",
        "colab_type": "code",
        "colab": {}
      },
      "source": [
        ""
      ],
      "execution_count": 0,
      "outputs": []
    }
  ]
}